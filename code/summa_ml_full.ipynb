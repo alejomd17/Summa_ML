{
 "cells": [
  {
   "cell_type": "markdown",
   "metadata": {},
   "source": [
    "##### Regression"
   ]
  },
  {
   "cell_type": "code",
   "execution_count": 1,
   "metadata": {},
   "outputs": [
    {
     "name": "stdout",
     "output_type": "stream",
     "text": [
      "======= Demand_og =======\n",
      "Number of models compared: 30.\n"
     ]
    },
    {
     "name": "stderr",
     "output_type": "stream",
     "text": [
      "lags grid: 100%|██████████| 3/3 [00:00<00:00, 29.90it/s]"
     ]
    },
    {
     "name": "stdout",
     "output_type": "stream",
     "text": [
      "`Forecaster` refitted using the best-found lags and parameters, and the whole data set: \n",
      "  Lags: [1] \n",
      "  Parameters: {'lasso__alpha': 1e-05}\n",
      "  Backtesting metric: 77469.79698651547\n",
      "\n",
      "Performing stepwise search to minimize aic\n"
     ]
    },
    {
     "name": "stderr",
     "output_type": "stream",
     "text": [
      "\n"
     ]
    },
    {
     "name": "stdout",
     "output_type": "stream",
     "text": [
      " ARIMA(2,0,2)(1,0,1)[12] intercept   : AIC=977.239, Time=1.73 sec\n",
      " ARIMA(0,0,0)(0,0,0)[12] intercept   : AIC=1061.883, Time=0.00 sec\n",
      " ARIMA(1,0,0)(1,0,0)[12] intercept   : AIC=974.626, Time=0.43 sec\n",
      " ARIMA(0,0,1)(0,0,1)[12] intercept   : AIC=1002.345, Time=0.31 sec\n",
      " ARIMA(0,0,0)(0,0,0)[12]             : AIC=1134.137, Time=0.00 sec\n",
      " ARIMA(1,0,0)(0,0,0)[12] intercept   : AIC=1008.530, Time=0.00 sec\n",
      " ARIMA(1,0,0)(2,0,0)[12] intercept   : AIC=974.217, Time=0.69 sec\n",
      " ARIMA(1,0,0)(2,0,1)[12] intercept   : AIC=inf, Time=0.73 sec\n",
      " ARIMA(1,0,0)(1,0,1)[12] intercept   : AIC=976.350, Time=0.93 sec\n",
      " ARIMA(0,0,0)(2,0,0)[12] intercept   : AIC=1024.345, Time=0.53 sec\n",
      " ARIMA(2,0,0)(2,0,0)[12] intercept   : AIC=975.373, Time=1.15 sec\n",
      " ARIMA(1,0,1)(2,0,0)[12] intercept   : AIC=975.664, Time=1.05 sec\n",
      " ARIMA(0,0,1)(2,0,0)[12] intercept   : AIC=995.752, Time=0.78 sec\n",
      " ARIMA(2,0,1)(2,0,0)[12] intercept   : AIC=inf, Time=0.92 sec\n",
      " ARIMA(1,0,0)(2,0,0)[12]             : AIC=978.041, Time=0.38 sec\n",
      "\n",
      "Best model:  ARIMA(1,0,0)(2,0,0)[12] intercept\n",
      "Total fit time: 9.644 seconds\n",
      "Number of models compared: 27.\n"
     ]
    },
    {
     "name": "stderr",
     "output_type": "stream",
     "text": [
      "lags grid: 100%|██████████| 3/3 [00:04<00:00,  1.56s/it]\n"
     ]
    },
    {
     "name": "stdout",
     "output_type": "stream",
     "text": [
      "`Forecaster` refitted using the best-found lags and parameters, and the whole data set: \n",
      "  Lags: [1] \n",
      "  Parameters: {'max_depth': 3, 'n_estimators': 300}\n",
      "  Backtesting metric: 173809.13632994413\n",
      "\n",
      "Number of models compared: 54.\n"
     ]
    },
    {
     "name": "stderr",
     "output_type": "stream",
     "text": [
      "lags grid: 100%|██████████| 3/3 [00:06<00:00,  2.24s/it]\n"
     ]
    },
    {
     "name": "stdout",
     "output_type": "stream",
     "text": [
      "`Forecaster` refitted using the best-found lags and parameters, and the whole data set: \n",
      "  Lags: [1 2 3 4] \n",
      "  Parameters: {'learning_rate': 0.01, 'max_depth': 5, 'n_estimators': 300}\n",
      "  Backtesting metric: 1103171.7918425794\n",
      "\n",
      "======= Demand_scal01 =======\n",
      "Number of models compared: 30.\n"
     ]
    },
    {
     "name": "stderr",
     "output_type": "stream",
     "text": [
      "lags grid: 100%|██████████| 3/3 [00:00<00:00, 20.55it/s]\n"
     ]
    },
    {
     "name": "stdout",
     "output_type": "stream",
     "text": [
      "`Forecaster` refitted using the best-found lags and parameters, and the whole data set: \n",
      "  Lags: [1] \n",
      "  Parameters: {'lasso__alpha': 1e-05}\n",
      "  Backtesting metric: 0.001985183834601891\n",
      "\n",
      "Performing stepwise search to minimize aic\n",
      " ARIMA(2,0,2)(1,0,1)[12] intercept   : AIC=-60.706, Time=0.92 sec\n",
      " ARIMA(0,0,0)(0,0,0)[12] intercept   : AIC=13.088, Time=0.01 sec\n",
      " ARIMA(1,0,0)(1,0,0)[12] intercept   : AIC=-74.170, Time=0.15 sec\n",
      " ARIMA(0,0,1)(0,0,1)[12] intercept   : AIC=inf, Time=0.33 sec\n",
      " ARIMA(0,0,0)(0,0,0)[12]             : AIC=77.957, Time=0.00 sec\n",
      " ARIMA(1,0,0)(0,0,0)[12] intercept   : AIC=-40.281, Time=0.02 sec\n",
      " ARIMA(1,0,0)(2,0,0)[12] intercept   : AIC=-74.579, Time=0.57 sec\n",
      " ARIMA(1,0,0)(2,0,1)[12] intercept   : AIC=-73.343, Time=0.82 sec\n",
      " ARIMA(1,0,0)(1,0,1)[12] intercept   : AIC=-68.512, Time=0.55 sec\n",
      " ARIMA(0,0,0)(2,0,0)[12] intercept   : AIC=-24.575, Time=0.36 sec\n",
      " ARIMA(2,0,0)(2,0,0)[12] intercept   : AIC=-73.486, Time=0.80 sec\n",
      " ARIMA(1,0,1)(2,0,0)[12] intercept   : AIC=-73.132, Time=1.08 sec\n",
      " ARIMA(0,0,1)(2,0,0)[12] intercept   : AIC=-53.473, Time=0.40 sec\n",
      " ARIMA(2,0,1)(2,0,0)[12] intercept   : AIC=-70.684, Time=1.25 sec\n",
      " ARIMA(1,0,0)(2,0,0)[12]             : AIC=-71.208, Time=0.55 sec\n",
      "\n",
      "Best model:  ARIMA(1,0,0)(2,0,0)[12] intercept\n",
      "Total fit time: 7.810 seconds\n",
      "Number of models compared: 27.\n"
     ]
    },
    {
     "name": "stderr",
     "output_type": "stream",
     "text": [
      "lags grid: 100%|██████████| 3/3 [00:04<00:00,  1.58s/it]\n"
     ]
    },
    {
     "name": "stdout",
     "output_type": "stream",
     "text": [
      "`Forecaster` refitted using the best-found lags and parameters, and the whole data set: \n",
      "  Lags: [1] \n",
      "  Parameters: {'max_depth': 3, 'n_estimators': 300}\n",
      "  Backtesting metric: 0.004452825110297082\n",
      "\n",
      "Number of models compared: 54.\n"
     ]
    },
    {
     "name": "stderr",
     "output_type": "stream",
     "text": [
      "lags grid: 100%|██████████| 3/3 [00:06<00:00,  2.24s/it]\n"
     ]
    },
    {
     "name": "stdout",
     "output_type": "stream",
     "text": [
      "`Forecaster` refitted using the best-found lags and parameters, and the whole data set: \n",
      "  Lags: [1 2 3 4] \n",
      "  Parameters: {'learning_rate': 0.01, 'max_depth': 5, 'n_estimators': 300}\n",
      "  Backtesting metric: 0.02823723468639565\n",
      "\n",
      "======= Demand_scal11 =======\n",
      "Number of models compared: 30.\n"
     ]
    },
    {
     "name": "stderr",
     "output_type": "stream",
     "text": [
      "lags grid: 100%|██████████| 3/3 [00:00<00:00, 18.93it/s]\n"
     ]
    },
    {
     "name": "stdout",
     "output_type": "stream",
     "text": [
      "`Forecaster` refitted using the best-found lags and parameters, and the whole data set: \n",
      "  Lags: [1] \n",
      "  Parameters: {'lasso__alpha': 1e-05}\n",
      "  Backtesting metric: 0.028340919389273106\n",
      "\n",
      "Performing stepwise search to minimize aic\n",
      " ARIMA(2,0,2)(1,0,1)[12] intercept   : AIC=99.700, Time=1.79 sec\n",
      " ARIMA(0,0,0)(0,0,0)[12] intercept   : AIC=172.617, Time=0.02 sec\n",
      " ARIMA(1,0,0)(1,0,0)[12] intercept   : AIC=85.359, Time=0.21 sec\n",
      " ARIMA(0,0,1)(0,0,1)[12] intercept   : AIC=inf, Time=0.21 sec\n",
      " ARIMA(0,0,0)(0,0,0)[12]             : AIC=170.968, Time=0.00 sec\n",
      " ARIMA(1,0,0)(0,0,0)[12] intercept   : AIC=119.248, Time=0.02 sec\n",
      " ARIMA(1,0,0)(2,0,0)[12] intercept   : AIC=84.951, Time=0.30 sec\n",
      " ARIMA(1,0,0)(2,0,1)[12] intercept   : AIC=86.176, Time=0.67 sec\n",
      " ARIMA(1,0,0)(1,0,1)[12] intercept   : AIC=85.414, Time=0.73 sec\n",
      " ARIMA(0,0,0)(2,0,0)[12] intercept   : AIC=134.954, Time=0.22 sec\n",
      " ARIMA(2,0,0)(2,0,0)[12] intercept   : AIC=86.044, Time=0.58 sec\n",
      " ARIMA(1,0,1)(2,0,0)[12] intercept   : AIC=86.397, Time=0.45 sec\n",
      " ARIMA(0,0,1)(2,0,0)[12] intercept   : AIC=106.057, Time=0.63 sec\n",
      " ARIMA(2,0,1)(2,0,0)[12] intercept   : AIC=86.260, Time=1.79 sec\n",
      " ARIMA(1,0,0)(2,0,0)[12]             : AIC=83.157, Time=0.10 sec\n",
      " ARIMA(1,0,0)(1,0,0)[12]             : AIC=83.428, Time=0.13 sec\n",
      " ARIMA(1,0,0)(2,0,1)[12]             : AIC=84.436, Time=0.50 sec\n",
      " ARIMA(1,0,0)(1,0,1)[12]             : AIC=83.561, Time=0.48 sec\n",
      " ARIMA(0,0,0)(2,0,0)[12]             : AIC=133.951, Time=0.07 sec\n",
      " ARIMA(2,0,0)(2,0,0)[12]             : AIC=84.275, Time=0.41 sec\n",
      " ARIMA(1,0,1)(2,0,0)[12]             : AIC=84.616, Time=0.20 sec\n",
      " ARIMA(0,0,1)(2,0,0)[12]             : AIC=104.770, Time=0.28 sec\n",
      " ARIMA(2,0,1)(2,0,0)[12]             : AIC=inf, Time=1.50 sec\n",
      "\n",
      "Best model:  ARIMA(1,0,0)(2,0,0)[12]          \n",
      "Total fit time: 11.294 seconds\n",
      "Number of models compared: 27.\n"
     ]
    },
    {
     "name": "stderr",
     "output_type": "stream",
     "text": [
      "lags grid: 100%|██████████| 3/3 [00:04<00:00,  1.64s/it]\n"
     ]
    },
    {
     "name": "stdout",
     "output_type": "stream",
     "text": [
      "`Forecaster` refitted using the best-found lags and parameters, and the whole data set: \n",
      "  Lags: [1] \n",
      "  Parameters: {'max_depth': 3, 'n_estimators': 300}\n",
      "  Backtesting metric: 0.06358384047628941\n",
      "\n",
      "Number of models compared: 54.\n"
     ]
    },
    {
     "name": "stderr",
     "output_type": "stream",
     "text": [
      "lags grid: 100%|██████████| 3/3 [00:06<00:00,  2.17s/it]\n"
     ]
    },
    {
     "name": "stdout",
     "output_type": "stream",
     "text": [
      "`Forecaster` refitted using the best-found lags and parameters, and the whole data set: \n",
      "  Lags: [1 2 3 4] \n",
      "  Parameters: {'learning_rate': 0.01, 'max_depth': 5, 'n_estimators': 300}\n",
      "  Backtesting metric: 0.4035685096476464\n",
      "\n",
      "======= Demand_scallg =======\n",
      "Number of models compared: 30.\n"
     ]
    },
    {
     "name": "stderr",
     "output_type": "stream",
     "text": [
      "lags grid: 100%|██████████| 3/3 [00:00<00:00, 15.70it/s]\n"
     ]
    },
    {
     "name": "stdout",
     "output_type": "stream",
     "text": [
      "`Forecaster` refitted using the best-found lags and parameters, and the whole data set: \n",
      "  Lags: [1 2] \n",
      "  Parameters: {'lasso__alpha': 1e-05}\n",
      "  Backtesting metric: 0.01768932455028197\n",
      "\n",
      "Performing stepwise search to minimize aic\n",
      " ARIMA(2,0,2)(1,0,1)[12] intercept   : AIC=23.746, Time=0.78 sec\n",
      " ARIMA(0,0,0)(0,0,0)[12] intercept   : AIC=124.644, Time=0.02 sec\n",
      " ARIMA(1,0,0)(1,0,0)[12] intercept   : AIC=18.039, Time=0.20 sec\n",
      " ARIMA(0,0,1)(0,0,1)[12] intercept   : AIC=inf, Time=0.15 sec\n",
      " ARIMA(0,0,0)(0,0,0)[12]             : AIC=418.105, Time=0.00 sec\n",
      " ARIMA(1,0,0)(0,0,0)[12] intercept   : AIC=83.396, Time=0.03 sec\n",
      " ARIMA(1,0,0)(2,0,0)[12] intercept   : AIC=17.421, Time=0.70 sec\n",
      " ARIMA(1,0,0)(2,0,1)[12] intercept   : AIC=19.669, Time=0.65 sec\n",
      " ARIMA(1,0,0)(1,0,1)[12] intercept   : AIC=17.695, Time=0.38 sec\n",
      " ARIMA(0,0,0)(2,0,0)[12] intercept   : AIC=73.168, Time=0.42 sec\n",
      " ARIMA(2,0,0)(2,0,0)[12] intercept   : AIC=19.226, Time=0.73 sec\n",
      " ARIMA(1,0,1)(2,0,0)[12] intercept   : AIC=19.290, Time=0.52 sec\n",
      " ARIMA(0,0,1)(2,0,0)[12] intercept   : AIC=41.394, Time=0.50 sec\n",
      " ARIMA(2,0,1)(2,0,0)[12] intercept   : AIC=21.406, Time=0.78 sec\n",
      " ARIMA(1,0,0)(2,0,0)[12]             : AIC=inf, Time=0.47 sec\n",
      "\n",
      "Best model:  ARIMA(1,0,0)(2,0,0)[12] intercept\n",
      "Total fit time: 6.350 seconds\n",
      "Number of models compared: 27.\n"
     ]
    },
    {
     "name": "stderr",
     "output_type": "stream",
     "text": [
      "lags grid: 100%|██████████| 3/3 [00:04<00:00,  1.48s/it]\n"
     ]
    },
    {
     "name": "stdout",
     "output_type": "stream",
     "text": [
      "`Forecaster` refitted using the best-found lags and parameters, and the whole data set: \n",
      "  Lags: [1] \n",
      "  Parameters: {'max_depth': 3, 'n_estimators': 300}\n",
      "  Backtesting metric: 0.06113976401969188\n",
      "\n",
      "Number of models compared: 54.\n"
     ]
    },
    {
     "name": "stderr",
     "output_type": "stream",
     "text": [
      "lags grid: 100%|██████████| 3/3 [00:04<00:00,  1.57s/it]\n"
     ]
    },
    {
     "name": "stdout",
     "output_type": "stream",
     "text": [
      "`Forecaster` refitted using the best-found lags and parameters, and the whole data set: \n",
      "  Lags: [1 2] \n",
      "  Parameters: {'learning_rate': 0.1, 'max_depth': 10, 'n_estimators': 100}\n",
      "  Backtesting metric: 0.4369693562913945\n",
      "\n"
     ]
    },
    {
     "name": "stderr",
     "output_type": "stream",
     "text": [
      "matplotlib.category INFO  Using categorical units to plot a list of strings that are all parsable as floats or dates. If these strings should be plotted as numbers, cast to the appropriate data type before plotting.\n",
      "matplotlib.category INFO  Using categorical units to plot a list of strings that are all parsable as floats or dates. If these strings should be plotted as numbers, cast to the appropriate data type before plotting.\n",
      "matplotlib.category INFO  Using categorical units to plot a list of strings that are all parsable as floats or dates. If these strings should be plotted as numbers, cast to the appropriate data type before plotting.\n",
      "matplotlib.category INFO  Using categorical units to plot a list of strings that are all parsable as floats or dates. If these strings should be plotted as numbers, cast to the appropriate data type before plotting.\n",
      "matplotlib.category INFO  Using categorical units to plot a list of strings that are all parsable as floats or dates. If these strings should be plotted as numbers, cast to the appropriate data type before plotting.\n",
      "matplotlib.category INFO  Using categorical units to plot a list of strings that are all parsable as floats or dates. If these strings should be plotted as numbers, cast to the appropriate data type before plotting.\n"
     ]
    }
   ],
   "source": [
    "# Librerías\n",
    "# =================\n",
    "import os\n",
    "import pandas as pd\n",
    "\n",
    "import warnings;\n",
    "warnings.simplefilter('ignore')\n",
    "\n",
    "# Modulos\n",
    "# =================\n",
    "from src.parameters import Parameters\n",
    "from src.pred_preprocessing import clean_atipicis, scalated_dataframe\n",
    "from src.pred_predictions import fn_prediction, plot_pred\n",
    "\n",
    "# Datos\n",
    "# =================\n",
    "df_demanda   = pd.read_csv(os.path.join(Parameters.input_path, 'dataset_demand_acumulate.csv'))\n",
    "\n",
    "# Parametros\n",
    "# =================\n",
    "steps                   = Parameters.steps\n",
    "col_pronos              = Parameters.col_pronos\n",
    "col_y                   = Parameters.col_y\n",
    "scales                  = Parameters.scales\n",
    "\n",
    "# Process\n",
    "# =================\n",
    "df_clean_atipics = clean_atipicis(df_demanda, col_pronos, col_y)\n",
    "df_standarized   = scalated_dataframe(df_clean_atipics, col_pronos)\n",
    "df_pred = fn_prediction(df_standarized, steps, scales,col_pronos, col_y)\n",
    "plot_pred(df_demanda, df_pred, col_pronos, col_y)"
   ]
  },
  {
   "cell_type": "markdown",
   "metadata": {},
   "source": [
    "##### Classification"
   ]
  },
  {
   "cell_type": "code",
   "execution_count": 2,
   "metadata": {},
   "outputs": [],
   "source": [
    "# Librerías\n",
    "# =================\n",
    "import os\n",
    "import pandas as pd\n",
    "\n",
    "import warnings;\n",
    "warnings.simplefilter('ignore')\n",
    "\n",
    "# Modulos\n",
    "# =================\n",
    "from src.parameters import Parameters\n",
    "from src.class_preprocessing import data_to_class\n",
    "from src.class_classification import train_classification, fn_classification\n",
    "\n",
    "# Train\n",
    "# =================\n",
    "df_variables    = pd.read_csv(os.path.join(Parameters.input_path, 'dataset_alpha_betha.csv'))\n",
    "X, y            = data_to_class(df_variables, train = True)\n",
    "train_classification(X, y)\n",
    "    \n",
    "# Process\n",
    "# =================\n",
    "df_to_pred      = pd.read_csv(os.path.join(Parameters.input_path, 'to_predict.csv'))\n",
    "df_pred_demand  = pd.read_excel(os.path.join(Parameters.results_path, 'df_plot.xlsx'))\n",
    "df_to_pred['Demand'] = df_pred_demand[['year_month','pred']][-3:]['pred'].values\n",
    "X, y            = data_to_class(df_to_pred)\n",
    "df_class, df_class_consolidate        = fn_classification(df_to_pred, X)"
   ]
  },
  {
   "cell_type": "markdown",
   "metadata": {},
   "source": [
    "##### API"
   ]
  },
  {
   "cell_type": "code",
   "execution_count": 3,
   "metadata": {},
   "outputs": [
    {
     "data": {
      "text/plain": [
       "{'classification': ['Betha'],\n",
       " 'df_full': [{'autoID': '9695-TERGH',\n",
       "   'SeniorCity': 0,\n",
       "   'Partner': 'No',\n",
       "   'Dependents': 'No',\n",
       "   'Service1': 'Yes',\n",
       "   'Service2': 'No',\n",
       "   'Security': 'Yes',\n",
       "   'OnlineBackup': 'No',\n",
       "   'DeviceProtection': 'No',\n",
       "   'TechSupport': 'No',\n",
       "   'Contract': 'Month-to-month',\n",
       "   'PaperlessBilling': 'Yes',\n",
       "   'PaymentMethod': 'Electronic check',\n",
       "   'Charges': 96.05,\n",
       "   'Demand': 923.3878513876025,\n",
       "   'Class': 'Betha'}]}"
      ]
     },
     "execution_count": 3,
     "metadata": {},
     "output_type": "execute_result"
    }
   ],
   "source": [
    "import pandas as pd\n",
    "import os\n",
    "from src.parameters import Parameters\n",
    "from numpy import random\n",
    "from src.manual_api_class_compras import class_compras\n",
    "\n",
    "df_to_pred              = pd.read_csv(os.path.join(Parameters.input_path, 'to_predict.csv'))\n",
    "df_to_pred              = df_to_pred.sample()\n",
    "df_pred_demand          = pd.read_excel(os.path.join(Parameters.results_path, 'df_plot.xlsx'))\n",
    "df_to_pred['Demand']    = random.choice(df_pred_demand[['pred']][-3:]['pred'].values)\n",
    "class_compras(autoID =           df_to_pred['autoID'].iloc[0]\n",
    "            , SeniorCity =       df_to_pred['SeniorCity'].iloc[0]\n",
    "            , Partner =          df_to_pred['Partner'].iloc[0]\n",
    "            , Dependents =       df_to_pred['Dependents'].iloc[0]\n",
    "            , Service1 =         df_to_pred['Service1'].iloc[0]\n",
    "            , Service2 =         df_to_pred['Service2'].iloc[0]\n",
    "            , Security =         df_to_pred['Security'].iloc[0]\n",
    "            , OnlineBackup =     df_to_pred['OnlineBackup'].iloc[0]\n",
    "            , DeviceProtection = df_to_pred['DeviceProtection'].iloc[0]\n",
    "            , TechSupport =      df_to_pred['TechSupport'].iloc[0]\n",
    "            , Contract =         df_to_pred['Contract'].iloc[0]\n",
    "            , PaperlessBilling = df_to_pred['PaperlessBilling'].iloc[0]\n",
    "            , PaymentMethod =    df_to_pred['PaymentMethod'].iloc[0]\n",
    "            , Charges =          df_to_pred['Charges'].iloc[0]\n",
    "            , Demand =           df_to_pred['Demand'].iloc[0])"
   ]
  },
  {
   "cell_type": "code",
   "execution_count": null,
   "metadata": {},
   "outputs": [],
   "source": []
  }
 ],
 "metadata": {
  "kernelspec": {
   "display_name": ".venv_summa_ml",
   "language": "python",
   "name": "python3"
  },
  "language_info": {
   "codemirror_mode": {
    "name": "ipython",
    "version": 3
   },
   "file_extension": ".py",
   "mimetype": "text/x-python",
   "name": "python",
   "nbconvert_exporter": "python",
   "pygments_lexer": "ipython3",
   "version": "3.10.8"
  }
 },
 "nbformat": 4,
 "nbformat_minor": 2
}
