{
 "cells": [
  {
   "cell_type": "markdown",
   "metadata": {},
   "source": [
    "##### Regression"
   ]
  },
  {
   "cell_type": "code",
   "execution_count": null,
   "metadata": {},
   "outputs": [],
   "source": [
    "# Librerías\n",
    "# =================\n",
    "import os\n",
    "import pandas as pd\n",
    "\n",
    "import warnings;\n",
    "warnings.simplefilter('ignore')\n",
    "\n",
    "# Modulos\n",
    "# =================\n",
    "from src.parameters import Parameters\n",
    "from src.pred_preprocessing import clean_atipicis, scalated_dataframe\n",
    "from src.pred_predictions import fn_prediction, plot_pred\n",
    "\n",
    "# Datos\n",
    "# =================\n",
    "df_demanda   = pd.read_csv(os.path.join(Parameters.input_path, 'dataset_demand_acumulate.csv'))\n",
    "\n",
    "# Parametros\n",
    "# =================\n",
    "steps                   = Parameters.steps\n",
    "col_pronos              = Parameters.col_pronos\n",
    "col_y                   = Parameters.col_y\n",
    "scales                  = Parameters.scales\n",
    "\n",
    "# Process\n",
    "# =================\n",
    "df_clean_atipics = clean_atipicis(df_demanda, col_pronos, col_y)\n",
    "df_standarized   = scalated_dataframe(df_clean_atipics, col_pronos)\n",
    "df_pred = fn_prediction(df_standarized, steps, scales,col_pronos, col_y)\n",
    "plot_pred(df_demanda, df_pred, col_pronos, col_y)"
   ]
  },
  {
   "cell_type": "markdown",
   "metadata": {},
   "source": [
    "##### Classification"
   ]
  },
  {
   "cell_type": "code",
   "execution_count": 2,
   "metadata": {},
   "outputs": [],
   "source": [
    "# Librerías\n",
    "# =================\n",
    "import os\n",
    "import pandas as pd\n",
    "\n",
    "import warnings;\n",
    "warnings.simplefilter('ignore')\n",
    "\n",
    "# Modulos\n",
    "# =================\n",
    "from src.parameters import Parameters\n",
    "from src.class_preprocessing import data_to_class\n",
    "from src.class_classification import train_classification, fn_classification\n",
    "\n",
    "# Train\n",
    "# =================\n",
    "df_variables    = pd.read_csv(os.path.join(Parameters.input_path, 'dataset_alpha_betha.csv'))\n",
    "X, y            = data_to_class(df_variables, train = True)\n",
    "train_classification(X, y)\n",
    "    \n",
    "# Process\n",
    "# =================\n",
    "df_to_pred      = pd.read_csv(os.path.join(Parameters.input_path, 'to_predict.csv'))\n",
    "df_pred_demand  = pd.read_excel(os.path.join(Parameters.results_path, 'df_plot.xlsx'))\n",
    "df_to_pred['Demand'] = df_pred_demand[['year_month','pred']][-3:]['pred'].values\n",
    "X, y            = data_to_class(df_to_pred)\n",
    "df_class, df_class_consolidate        = fn_classification(df_to_pred, X)"
   ]
  },
  {
   "cell_type": "markdown",
   "metadata": {},
   "source": [
    "##### API"
   ]
  },
  {
   "cell_type": "code",
   "execution_count": 1,
   "metadata": {},
   "outputs": [
    {
     "data": {
      "text/plain": [
       "{'classification': ['Alpha'],\n",
       " 'df_full': [{'autoID': '5731-DDJUB',\n",
       "   'SeniorCity': 0,\n",
       "   'Partner': 'No',\n",
       "   'Dependents': 'No',\n",
       "   'Service1': 'Yes',\n",
       "   'Service2': 'No',\n",
       "   'Security': 'No internet service',\n",
       "   'OnlineBackup': 'No internet service',\n",
       "   'DeviceProtection': 'No internet service',\n",
       "   'TechSupport': 'No internet service',\n",
       "   'Contract': 'Two year',\n",
       "   'PaperlessBilling': 'No',\n",
       "   'PaymentMethod': 'Bank transfer (automatic)',\n",
       "   'Charges': 19.7,\n",
       "   'Demand': 818.0553835137255,\n",
       "   'Class': 'Alpha'}]}"
      ]
     },
     "execution_count": 1,
     "metadata": {},
     "output_type": "execute_result"
    }
   ],
   "source": [
    "import pandas as pd\n",
    "import os\n",
    "from src.parameters import Parameters\n",
    "from numpy import random\n",
    "from src.manual_api_class_compras import class_compras\n",
    "\n",
    "df_to_pred              = pd.read_csv(os.path.join(Parameters.input_path, 'to_predict.csv'))\n",
    "df_to_pred              = df_to_pred.sample()\n",
    "df_pred_demand          = pd.read_excel(os.path.join(Parameters.results_path, 'df_plot.xlsx'))\n",
    "df_to_pred['Demand']    = random.choice(df_pred_demand[['pred']][-3:]['pred'].values)\n",
    "class_compras(autoID =           df_to_pred['autoID'].iloc[0]\n",
    "            , SeniorCity =       df_to_pred['SeniorCity'].iloc[0]\n",
    "            , Partner =          df_to_pred['Partner'].iloc[0]\n",
    "            , Dependents =       df_to_pred['Dependents'].iloc[0]\n",
    "            , Service1 =         df_to_pred['Service1'].iloc[0]\n",
    "            , Service2 =         df_to_pred['Service2'].iloc[0]\n",
    "            , Security =         df_to_pred['Security'].iloc[0]\n",
    "            , OnlineBackup =     df_to_pred['OnlineBackup'].iloc[0]\n",
    "            , DeviceProtection = df_to_pred['DeviceProtection'].iloc[0]\n",
    "            , TechSupport =      df_to_pred['TechSupport'].iloc[0]\n",
    "            , Contract =         df_to_pred['Contract'].iloc[0]\n",
    "            , PaperlessBilling = df_to_pred['PaperlessBilling'].iloc[0]\n",
    "            , PaymentMethod =    df_to_pred['PaymentMethod'].iloc[0]\n",
    "            , Charges =          df_to_pred['Charges'].iloc[0]\n",
    "            , Demand =           df_to_pred['Demand'].iloc[0])"
   ]
  }
 ],
 "metadata": {
  "kernelspec": {
   "display_name": ".venv_summa_ml",
   "language": "python",
   "name": "python3"
  },
  "language_info": {
   "codemirror_mode": {
    "name": "ipython",
    "version": 3
   },
   "file_extension": ".py",
   "mimetype": "text/x-python",
   "name": "python",
   "nbconvert_exporter": "python",
   "pygments_lexer": "ipython3",
   "version": "3.10.8"
  }
 },
 "nbformat": 4,
 "nbformat_minor": 2
}
