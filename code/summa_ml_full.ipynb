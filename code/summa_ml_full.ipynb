{
 "cells": [
  {
   "cell_type": "code",
   "execution_count": 1,
   "metadata": {},
   "outputs": [
    {
     "name": "stderr",
     "output_type": "stream",
     "text": [
      "c:\\Users\\jmoscoso04\\OneDrive - Cementos Argos S.A\\Documentos\\Proyectos\\Pruebas_tecnicas\\Summa_ML\\.venv_summa_ml\\lib\\site-packages\\tqdm\\auto.py:21: TqdmWarning: IProgress not found. Please update jupyter and ipywidgets. See https://ipywidgets.readthedocs.io/en/stable/user_install.html\n",
      "  from .autonotebook import tqdm as notebook_tqdm\n"
     ]
    }
   ],
   "source": [
    "import pandas as pd\n",
    "import os\n",
    "\n",
    "from src.parameters import Parameters\n",
    "from src.pred_preprocessing import clean_atipicis, scalated_dataframe, de_escalate\n",
    "from src.pred_predictions import fn_prediction, plot_pred\n",
    "\n",
    "import warnings;\n",
    "warnings.simplefilter('ignore')"
   ]
  },
  {
   "cell_type": "code",
   "execution_count": null,
   "metadata": {},
   "outputs": [],
   "source": [
    "# def run_pred(run = False):\n",
    "\n",
    "# Datos\n",
    "# =================\n",
    "df_demanda   = pd.read_csv(os.path.join(Parameters.input_path, 'dataset_demand_acumulate.csv'))\n",
    "\n",
    "# Parametros\n",
    "# =================\n",
    "steps                   = Parameters.steps\n",
    "col_pronos              = Parameters.col_pronos\n",
    "col_y                   = Parameters.col_y\n",
    "scales                  = Parameters.scales\n",
    "\n",
    "df_clean_atipics = clean_atipicis(df_demanda, col_pronos, col_y)\n",
    "df_standarized   = scalated_dataframe(df_clean_atipics, col_pronos)\n",
    "df_pred = fn_prediction(df_standarized, steps, scales,col_pronos, col_y)\n",
    "plot_pred(df_demanda, df_pred, col_pronos, col_y)"
   ]
  },
  {
   "cell_type": "code",
   "execution_count": 5,
   "metadata": {},
   "outputs": [
    {
     "data": {
      "text/plain": [
       "20"
      ]
     },
     "execution_count": 5,
     "metadata": {},
     "output_type": "execute_result"
    }
   ],
   "source": []
  },
  {
   "cell_type": "code",
   "execution_count": 1,
   "metadata": {},
   "outputs": [
    {
     "data": {
      "text/html": [
       "<div>\n",
       "<style scoped>\n",
       "    .dataframe tbody tr th:only-of-type {\n",
       "        vertical-align: middle;\n",
       "    }\n",
       "\n",
       "    .dataframe tbody tr th {\n",
       "        vertical-align: top;\n",
       "    }\n",
       "\n",
       "    .dataframe thead th {\n",
       "        text-align: right;\n",
       "    }\n",
       "</style>\n",
       "<table border=\"1\" class=\"dataframe\">\n",
       "  <thead>\n",
       "    <tr style=\"text-align: right;\">\n",
       "      <th></th>\n",
       "      <th>autoID</th>\n",
       "      <th>SeniorCity</th>\n",
       "      <th>Partner</th>\n",
       "      <th>Dependents</th>\n",
       "      <th>Service1</th>\n",
       "      <th>Service2</th>\n",
       "      <th>Security</th>\n",
       "      <th>OnlineBackup</th>\n",
       "      <th>DeviceProtection</th>\n",
       "      <th>TechSupport</th>\n",
       "      <th>Contract</th>\n",
       "      <th>PaperlessBilling</th>\n",
       "      <th>PaymentMethod</th>\n",
       "      <th>Charges</th>\n",
       "      <th>Demand</th>\n",
       "      <th>Class</th>\n",
       "      <th>date_run</th>\n",
       "    </tr>\n",
       "  </thead>\n",
       "  <tbody>\n",
       "    <tr>\n",
       "      <th>0</th>\n",
       "      <td>9695-TERGH</td>\n",
       "      <td>0</td>\n",
       "      <td>No</td>\n",
       "      <td>No</td>\n",
       "      <td>Yes</td>\n",
       "      <td>No</td>\n",
       "      <td>Yes</td>\n",
       "      <td>No</td>\n",
       "      <td>No</td>\n",
       "      <td>No</td>\n",
       "      <td>Month-to-month</td>\n",
       "      <td>Yes</td>\n",
       "      <td>Electronic check</td>\n",
       "      <td>96.05</td>\n",
       "      <td>NaN</td>\n",
       "      <td>1</td>\n",
       "      <td>2024-07</td>\n",
       "    </tr>\n",
       "    <tr>\n",
       "      <th>1</th>\n",
       "      <td>5247-VRIOW</td>\n",
       "      <td>0</td>\n",
       "      <td>No</td>\n",
       "      <td>No</td>\n",
       "      <td>Yes</td>\n",
       "      <td>No</td>\n",
       "      <td>Yes</td>\n",
       "      <td>No</td>\n",
       "      <td>No</td>\n",
       "      <td>Yes</td>\n",
       "      <td>Month-to-month</td>\n",
       "      <td>No</td>\n",
       "      <td>Mailed check</td>\n",
       "      <td>53.45</td>\n",
       "      <td>NaN</td>\n",
       "      <td>0</td>\n",
       "      <td>2024-07</td>\n",
       "    </tr>\n",
       "    <tr>\n",
       "      <th>2</th>\n",
       "      <td>5731-DDJUB</td>\n",
       "      <td>0</td>\n",
       "      <td>No</td>\n",
       "      <td>No</td>\n",
       "      <td>Yes</td>\n",
       "      <td>No</td>\n",
       "      <td>No internet service</td>\n",
       "      <td>No internet service</td>\n",
       "      <td>No internet service</td>\n",
       "      <td>No internet service</td>\n",
       "      <td>Two year</td>\n",
       "      <td>No</td>\n",
       "      <td>Bank transfer (automatic)</td>\n",
       "      <td>19.70</td>\n",
       "      <td>NaN</td>\n",
       "      <td>0</td>\n",
       "      <td>2024-07</td>\n",
       "    </tr>\n",
       "  </tbody>\n",
       "</table>\n",
       "</div>"
      ],
      "text/plain": [
       "       autoID  SeniorCity Partner Dependents Service1 Service2  \\\n",
       "0  9695-TERGH           0      No         No      Yes       No   \n",
       "1  5247-VRIOW           0      No         No      Yes       No   \n",
       "2  5731-DDJUB           0      No         No      Yes       No   \n",
       "\n",
       "              Security         OnlineBackup     DeviceProtection  \\\n",
       "0                  Yes                   No                   No   \n",
       "1                  Yes                   No                   No   \n",
       "2  No internet service  No internet service  No internet service   \n",
       "\n",
       "           TechSupport        Contract PaperlessBilling  \\\n",
       "0                   No  Month-to-month              Yes   \n",
       "1                  Yes  Month-to-month               No   \n",
       "2  No internet service        Two year               No   \n",
       "\n",
       "               PaymentMethod  Charges  Demand  Class date_run  \n",
       "0           Electronic check    96.05     NaN      1  2024-07  \n",
       "1               Mailed check    53.45     NaN      0  2024-07  \n",
       "2  Bank transfer (automatic)    19.70     NaN      0  2024-07  "
      ]
     },
     "execution_count": 1,
     "metadata": {},
     "output_type": "execute_result"
    }
   ],
   "source": [
    "from src.class_classification import *\n",
    "from src.class_competition import *\n",
    "\n",
    "# Datos\n",
    "# ==============================================================================\n",
    "df_variables = pd.read_csv(os.path.join(Parameters.input_path, 'dataset_alpha_betha.csv'))\n",
    "X, y = data_to_class(df_variables, train = True)\n",
    "train_classification(X, y)\n",
    "    \n",
    "df_to_pred   = pd.read_csv(os.path.join(Parameters.input_path, 'to_predict.csv'))\n",
    "X, y = data_to_class(df_to_pred)\n",
    "fn_classification(df_to_pred, X)"
   ]
  }
 ],
 "metadata": {
  "kernelspec": {
   "display_name": ".venv_summa_ml",
   "language": "python",
   "name": "python3"
  },
  "language_info": {
   "codemirror_mode": {
    "name": "ipython",
    "version": 3
   },
   "file_extension": ".py",
   "mimetype": "text/x-python",
   "name": "python",
   "nbconvert_exporter": "python",
   "pygments_lexer": "ipython3",
   "version": "3.10.8"
  }
 },
 "nbformat": 4,
 "nbformat_minor": 2
}
