{
 "cells": [
  {
   "cell_type": "markdown",
   "metadata": {},
   "source": [
    "##### Regression"
   ]
  },
  {
   "cell_type": "code",
   "execution_count": 1,
   "metadata": {},
   "outputs": [
    {
     "name": "stdout",
     "output_type": "stream",
     "text": [
      "======= Demand_og =======\n",
      "Number of models compared: 30.\n"
     ]
    },
    {
     "name": "stderr",
     "output_type": "stream",
     "text": [
      "lags grid: 100%|██████████| 3/3 [00:00<00:00, 25.76it/s]"
     ]
    },
    {
     "name": "stdout",
     "output_type": "stream",
     "text": [
      "`Forecaster` refitted using the best-found lags and parameters, and the whole data set: \n",
      "  Lags: [1 2 3 4 5 6] \n",
      "  Parameters: {'lasso__alpha': 100000.0}\n",
      "  Backtesting metric: 270565.9057465826\n",
      "\n",
      "Performing stepwise search to minimize aic\n"
     ]
    },
    {
     "name": "stderr",
     "output_type": "stream",
     "text": [
      "\n"
     ]
    },
    {
     "name": "stdout",
     "output_type": "stream",
     "text": [
      " ARIMA(0,0,0)(1,0,1)[12] intercept   : AIC=inf, Time=0.42 sec\n",
      " ARIMA(0,0,0)(0,0,0)[12] intercept   : AIC=1061.883, Time=0.00 sec\n",
      " ARIMA(1,0,0)(1,0,0)[12] intercept   : AIC=974.626, Time=0.86 sec\n",
      " ARIMA(0,0,1)(0,0,1)[12] intercept   : AIC=1002.345, Time=0.29 sec\n",
      " ARIMA(0,0,0)(0,0,0)[12]             : AIC=1134.137, Time=0.00 sec\n",
      " ARIMA(1,0,0)(0,0,0)[12] intercept   : AIC=1008.530, Time=0.01 sec\n",
      " ARIMA(1,0,0)(2,0,0)[12] intercept   : AIC=974.217, Time=0.98 sec\n",
      " ARIMA(1,0,0)(2,0,1)[12] intercept   : AIC=inf, Time=0.58 sec\n",
      " ARIMA(1,0,0)(1,0,1)[12] intercept   : AIC=976.350, Time=0.42 sec\n",
      " ARIMA(0,0,0)(2,0,0)[12] intercept   : AIC=1024.345, Time=0.46 sec\n",
      " ARIMA(2,0,0)(2,0,0)[12] intercept   : AIC=975.373, Time=0.68 sec\n",
      " ARIMA(1,0,1)(2,0,0)[12] intercept   : AIC=975.664, Time=0.53 sec\n",
      " ARIMA(0,0,1)(2,0,0)[12] intercept   : AIC=995.752, Time=0.48 sec\n",
      " ARIMA(2,0,1)(2,0,0)[12] intercept   : AIC=inf, Time=1.47 sec\n",
      " ARIMA(1,0,0)(2,0,0)[12]             : AIC=978.041, Time=0.83 sec\n",
      "\n",
      "Best model:  ARIMA(1,0,0)(2,0,0)[12] intercept\n",
      "Total fit time: 8.044 seconds\n",
      "Number of models compared: 18.\n"
     ]
    },
    {
     "name": "stderr",
     "output_type": "stream",
     "text": [
      "lags grid: 100%|██████████| 3/3 [00:09<00:00,  3.21s/it]\n"
     ]
    },
    {
     "name": "stdout",
     "output_type": "stream",
     "text": [
      "`Forecaster` refitted using the best-found lags and parameters, and the whole data set: \n",
      "  Lags: [1 2 3] \n",
      "  Parameters: {'max_depth': 5, 'n_estimators': 100}\n",
      "  Backtesting metric: 1775831.018941368\n",
      "\n",
      "Number of models compared: 54.\n"
     ]
    },
    {
     "name": "stderr",
     "output_type": "stream",
     "text": [
      "lags grid: 100%|██████████| 3/3 [00:19<00:00,  6.49s/it]\n"
     ]
    },
    {
     "name": "stdout",
     "output_type": "stream",
     "text": [
      "`Forecaster` refitted using the best-found lags and parameters, and the whole data set: \n",
      "  Lags: [ 1  2  3  4  5  6  7  8  9 10 11 12 13 14 15 16 17 18 19 20 21 22 23 24] \n",
      "  Parameters: {'learning_rate': 0.1, 'max_depth': 10, 'n_estimators': 500}\n",
      "  Backtesting metric: 1584144.3380574216\n",
      "\n",
      "======= Demand_scal01 =======\n",
      "Number of models compared: 30.\n"
     ]
    },
    {
     "name": "stderr",
     "output_type": "stream",
     "text": [
      "lags grid: 100%|██████████| 3/3 [00:00<00:00, 12.22it/s]\n"
     ]
    },
    {
     "name": "stdout",
     "output_type": "stream",
     "text": [
      "`Forecaster` refitted using the best-found lags and parameters, and the whole data set: \n",
      "  Lags: [1 2 3 4 5 6] \n",
      "  Parameters: {'lasso__alpha': 0.021544346900318846}\n",
      "  Backtesting metric: 0.0035619625081552424\n",
      "\n",
      "Performing stepwise search to minimize aic\n",
      " ARIMA(0,0,0)(1,0,1)[12] intercept   : AIC=-16.976, Time=28.32 sec\n",
      " ARIMA(0,0,0)(0,0,0)[12] intercept   : AIC=13.088, Time=0.02 sec\n",
      " ARIMA(1,0,0)(1,0,0)[12] intercept   : AIC=-74.170, Time=8.95 sec\n",
      " ARIMA(0,0,1)(0,0,1)[12] intercept   : AIC=inf, Time=8.51 sec\n",
      " ARIMA(0,0,0)(0,0,0)[12]             : AIC=77.957, Time=0.01 sec\n",
      " ARIMA(1,0,0)(0,0,0)[12] intercept   : AIC=-40.281, Time=0.03 sec\n",
      " ARIMA(1,0,0)(2,0,0)[12] intercept   : AIC=-74.579, Time=24.01 sec\n",
      " ARIMA(1,0,0)(2,0,1)[12] intercept   : AIC=-73.343, Time=23.65 sec\n",
      " ARIMA(1,0,0)(1,0,1)[12] intercept   : AIC=-68.512, Time=0.73 sec\n",
      " ARIMA(0,0,0)(2,0,0)[12] intercept   : AIC=-24.575, Time=0.22 sec\n",
      " ARIMA(2,0,0)(2,0,0)[12] intercept   : AIC=-73.486, Time=0.48 sec\n",
      " ARIMA(1,0,1)(2,0,0)[12] intercept   : AIC=-73.132, Time=0.81 sec\n",
      " ARIMA(0,0,1)(2,0,0)[12] intercept   : AIC=-53.473, Time=0.30 sec\n",
      " ARIMA(2,0,1)(2,0,0)[12] intercept   : AIC=-70.684, Time=0.93 sec\n",
      " ARIMA(1,0,0)(2,0,0)[12]             : AIC=-71.208, Time=0.37 sec\n",
      "\n",
      "Best model:  ARIMA(1,0,0)(2,0,0)[12] intercept\n",
      "Total fit time: 97.369 seconds\n",
      "Number of models compared: 18.\n"
     ]
    },
    {
     "name": "stderr",
     "output_type": "stream",
     "text": [
      "lags grid: 100%|██████████| 3/3 [00:05<00:00,  1.75s/it]\n"
     ]
    },
    {
     "name": "stdout",
     "output_type": "stream",
     "text": [
      "`Forecaster` refitted using the best-found lags and parameters, and the whole data set: \n",
      "  Lags: [1 2 3] \n",
      "  Parameters: {'max_depth': 10, 'n_estimators': 100}\n",
      "  Backtesting metric: 0.045740364396119934\n",
      "\n",
      "Number of models compared: 54.\n"
     ]
    },
    {
     "name": "stderr",
     "output_type": "stream",
     "text": [
      "lags grid: 100%|██████████| 3/3 [00:08<00:00,  2.77s/it]\n"
     ]
    },
    {
     "name": "stdout",
     "output_type": "stream",
     "text": [
      "`Forecaster` refitted using the best-found lags and parameters, and the whole data set: \n",
      "  Lags: [ 1  2  3  4  5  6  7  8  9 10 11 12 13 14 15 16 17 18 19 20 21 22 23 24] \n",
      "  Parameters: {'learning_rate': 0.1, 'max_depth': 10, 'n_estimators': 500}\n",
      "  Backtesting metric: 0.04068598745396079\n",
      "\n",
      "======= Demand_scal11 =======\n",
      "Number of models compared: 30.\n"
     ]
    },
    {
     "name": "stderr",
     "output_type": "stream",
     "text": [
      "lags grid: 100%|██████████| 3/3 [00:00<00:00, 19.77it/s]"
     ]
    },
    {
     "name": "stdout",
     "output_type": "stream",
     "text": [
      "`Forecaster` refitted using the best-found lags and parameters, and the whole data set: \n",
      "  Lags: [1 2 3 4 5 6] \n",
      "  Parameters: {'lasso__alpha': 0.2782559402207126}\n",
      "  Backtesting metric: 0.04787626903080653\n",
      "\n",
      "Performing stepwise search to minimize aic\n"
     ]
    },
    {
     "name": "stderr",
     "output_type": "stream",
     "text": [
      "\n"
     ]
    },
    {
     "name": "stdout",
     "output_type": "stream",
     "text": [
      " ARIMA(0,0,0)(1,0,1)[12] intercept   : AIC=137.342, Time=0.87 sec\n",
      " ARIMA(0,0,0)(0,0,0)[12] intercept   : AIC=172.617, Time=0.00 sec\n",
      " ARIMA(1,0,0)(1,0,0)[12] intercept   : AIC=85.359, Time=0.17 sec\n",
      " ARIMA(0,0,1)(0,0,1)[12] intercept   : AIC=inf, Time=0.37 sec\n",
      " ARIMA(0,0,0)(0,0,0)[12]             : AIC=170.968, Time=0.00 sec\n",
      " ARIMA(1,0,0)(0,0,0)[12] intercept   : AIC=119.248, Time=0.02 sec\n",
      " ARIMA(1,0,0)(2,0,0)[12] intercept   : AIC=84.951, Time=0.26 sec\n",
      " ARIMA(1,0,0)(2,0,1)[12] intercept   : AIC=86.176, Time=0.75 sec\n",
      " ARIMA(1,0,0)(1,0,1)[12] intercept   : AIC=85.414, Time=0.58 sec\n",
      " ARIMA(0,0,0)(2,0,0)[12] intercept   : AIC=134.954, Time=0.20 sec\n",
      " ARIMA(2,0,0)(2,0,0)[12] intercept   : AIC=86.044, Time=0.52 sec\n",
      " ARIMA(1,0,1)(2,0,0)[12] intercept   : AIC=86.397, Time=0.41 sec\n",
      " ARIMA(0,0,1)(2,0,0)[12] intercept   : AIC=106.057, Time=0.55 sec\n",
      " ARIMA(2,0,1)(2,0,0)[12] intercept   : AIC=86.260, Time=1.11 sec\n",
      " ARIMA(1,0,0)(2,0,0)[12]             : AIC=83.157, Time=0.20 sec\n",
      " ARIMA(1,0,0)(1,0,0)[12]             : AIC=83.428, Time=0.14 sec\n",
      " ARIMA(1,0,0)(2,0,1)[12]             : AIC=84.436, Time=0.41 sec\n",
      " ARIMA(1,0,0)(1,0,1)[12]             : AIC=83.561, Time=0.47 sec\n",
      " ARIMA(0,0,0)(2,0,0)[12]             : AIC=133.951, Time=0.18 sec\n",
      " ARIMA(2,0,0)(2,0,0)[12]             : AIC=84.275, Time=0.19 sec\n",
      " ARIMA(1,0,1)(2,0,0)[12]             : AIC=84.616, Time=0.29 sec\n",
      " ARIMA(0,0,1)(2,0,0)[12]             : AIC=104.770, Time=0.16 sec\n",
      " ARIMA(2,0,1)(2,0,0)[12]             : AIC=inf, Time=1.05 sec\n",
      "\n",
      "Best model:  ARIMA(1,0,0)(2,0,0)[12]          \n",
      "Total fit time: 8.885 seconds\n",
      "Number of models compared: 18.\n"
     ]
    },
    {
     "name": "stderr",
     "output_type": "stream",
     "text": [
      "lags grid: 100%|██████████| 3/3 [00:05<00:00,  1.77s/it]\n"
     ]
    },
    {
     "name": "stdout",
     "output_type": "stream",
     "text": [
      "`Forecaster` refitted using the best-found lags and parameters, and the whole data set: \n",
      "  Lags: [1 2 3] \n",
      "  Parameters: {'max_depth': 10, 'n_estimators': 100}\n",
      "  Backtesting metric: 0.6702687459757851\n",
      "\n",
      "Number of models compared: 54.\n"
     ]
    },
    {
     "name": "stderr",
     "output_type": "stream",
     "text": [
      "lags grid: 100%|██████████| 3/3 [00:06<00:00,  2.20s/it]\n"
     ]
    },
    {
     "name": "stdout",
     "output_type": "stream",
     "text": [
      "`Forecaster` refitted using the best-found lags and parameters, and the whole data set: \n",
      "  Lags: [ 1  2  3  4  5  6  7  8  9 10 11 12 13 14 15 16 17 18 19 20 21 22 23 24] \n",
      "  Parameters: {'learning_rate': 0.1, 'max_depth': 10, 'n_estimators': 500}\n",
      "  Backtesting metric: 0.5793321338577803\n",
      "\n",
      "======= Demand_scallg =======\n",
      "Number of models compared: 30.\n"
     ]
    },
    {
     "name": "stderr",
     "output_type": "stream",
     "text": [
      "lags grid: 100%|██████████| 3/3 [00:00<00:00, 15.11it/s]\n"
     ]
    },
    {
     "name": "stdout",
     "output_type": "stream",
     "text": [
      "`Forecaster` refitted using the best-found lags and parameters, and the whole data set: \n",
      "  Lags: [1 2 3 4 5 6] \n",
      "  Parameters: {'lasso__alpha': 0.021544346900318846}\n",
      "  Backtesting metric: 0.02549082915965813\n",
      "\n",
      "Performing stepwise search to minimize aic\n",
      " ARIMA(0,1,0)(1,1,1)[12]             : AIC=inf, Time=15.86 sec\n",
      " ARIMA(0,1,0)(0,1,0)[12]             : AIC=6.196, Time=0.01 sec\n",
      " ARIMA(1,1,0)(1,1,0)[12]             : AIC=8.925, Time=5.78 sec\n",
      " ARIMA(0,1,1)(0,1,1)[12]             : AIC=8.903, Time=6.19 sec\n",
      " ARIMA(0,1,0)(1,1,0)[12]             : AIC=8.137, Time=4.12 sec\n",
      " ARIMA(0,1,0)(0,1,1)[12]             : AIC=7.872, Time=6.45 sec\n",
      " ARIMA(1,1,0)(0,1,0)[12]             : AIC=6.992, Time=0.02 sec\n",
      " ARIMA(0,1,1)(0,1,0)[12]             : AIC=7.223, Time=0.10 sec\n",
      " ARIMA(1,1,1)(0,1,0)[12]             : AIC=8.219, Time=0.20 sec\n",
      " ARIMA(0,1,0)(0,1,0)[12] intercept   : AIC=8.133, Time=0.02 sec\n",
      "\n",
      "Best model:  ARIMA(0,1,0)(0,1,0)[12]          \n",
      "Total fit time: 38.773 seconds\n",
      "Number of models compared: 18.\n"
     ]
    },
    {
     "name": "stderr",
     "output_type": "stream",
     "text": [
      "lags grid: 100%|██████████| 3/3 [00:05<00:00,  1.82s/it]\n"
     ]
    },
    {
     "name": "stdout",
     "output_type": "stream",
     "text": [
      "`Forecaster` refitted using the best-found lags and parameters, and the whole data set: \n",
      "  Lags: [ 1  2  3  4  5  6  7  8  9 10 11 12] \n",
      "  Parameters: {'max_depth': 10, 'n_estimators': 100}\n",
      "  Backtesting metric: 0.36948787234557173\n",
      "\n",
      "Number of models compared: 54.\n"
     ]
    },
    {
     "name": "stderr",
     "output_type": "stream",
     "text": [
      "lags grid: 100%|██████████| 3/3 [00:05<00:00,  1.98s/it]\n"
     ]
    },
    {
     "name": "stdout",
     "output_type": "stream",
     "text": [
      "`Forecaster` refitted using the best-found lags and parameters, and the whole data set: \n",
      "  Lags: [ 1  2  3  4  5  6  7  8  9 10 11 12 13 14 15 16 17 18 19 20 21 22 23 24] \n",
      "  Parameters: {'learning_rate': 0.1, 'max_depth': 10, 'n_estimators': 500}\n",
      "  Backtesting metric: 0.36839278888134674\n",
      "\n"
     ]
    },
    {
     "name": "stderr",
     "output_type": "stream",
     "text": [
      "matplotlib.category INFO  Using categorical units to plot a list of strings that are all parsable as floats or dates. If these strings should be plotted as numbers, cast to the appropriate data type before plotting.\n",
      "matplotlib.category INFO  Using categorical units to plot a list of strings that are all parsable as floats or dates. If these strings should be plotted as numbers, cast to the appropriate data type before plotting.\n",
      "matplotlib.category INFO  Using categorical units to plot a list of strings that are all parsable as floats or dates. If these strings should be plotted as numbers, cast to the appropriate data type before plotting.\n",
      "matplotlib.category INFO  Using categorical units to plot a list of strings that are all parsable as floats or dates. If these strings should be plotted as numbers, cast to the appropriate data type before plotting.\n",
      "matplotlib.category INFO  Using categorical units to plot a list of strings that are all parsable as floats or dates. If these strings should be plotted as numbers, cast to the appropriate data type before plotting.\n",
      "matplotlib.category INFO  Using categorical units to plot a list of strings that are all parsable as floats or dates. If these strings should be plotted as numbers, cast to the appropriate data type before plotting.\n"
     ]
    }
   ],
   "source": [
    "# Librerías\n",
    "# =================\n",
    "import os\n",
    "import pandas as pd\n",
    "\n",
    "import warnings;\n",
    "warnings.simplefilter('ignore')\n",
    "\n",
    "# Modulos\n",
    "# =================\n",
    "from src.parameters import Parameters\n",
    "from src.pred_preprocessing import clean_atipicis, scalated_dataframe\n",
    "from src.pred_predictions import fn_prediction, plot_pred\n",
    "\n",
    "# Datos\n",
    "# =================\n",
    "df_demanda   = pd.read_csv(os.path.join(Parameters.input_path, 'dataset_demand_acumulate.csv'))\n",
    "\n",
    "# Parametros\n",
    "# =================\n",
    "steps                   = Parameters.steps\n",
    "col_pronos              = Parameters.col_pronos\n",
    "col_y                   = Parameters.col_y\n",
    "scales                  = Parameters.scales\n",
    "\n",
    "# Process\n",
    "# =================\n",
    "df_clean_atipics = clean_atipicis(df_demanda, col_pronos, col_y)\n",
    "df_standarized   = scalated_dataframe(df_clean_atipics, col_pronos)\n",
    "df_pred = fn_prediction(df_standarized, steps, scales,col_pronos, col_y)\n",
    "plot_pred(df_demanda, df_pred, col_pronos, col_y)"
   ]
  },
  {
   "cell_type": "markdown",
   "metadata": {},
   "source": [
    "##### Classification"
   ]
  },
  {
   "cell_type": "code",
   "execution_count": 2,
   "metadata": {},
   "outputs": [],
   "source": [
    "# Librerías\n",
    "# =================\n",
    "import os\n",
    "import pandas as pd\n",
    "\n",
    "import warnings;\n",
    "warnings.simplefilter('ignore')\n",
    "\n",
    "# Modulos\n",
    "# =================\n",
    "from src.parameters import Parameters\n",
    "from src.class_preprocessing import data_to_class\n",
    "from src.class_classification import train_classification, fn_classification\n",
    "\n",
    "# Train\n",
    "# =================\n",
    "df_variables    = pd.read_csv(os.path.join(Parameters.input_path, 'dataset_alpha_betha.csv'))\n",
    "X, y            = data_to_class(df_variables, train = True)\n",
    "train_classification(X, y)\n",
    "    \n",
    "# Process\n",
    "# =================\n",
    "df_to_pred      = pd.read_csv(os.path.join(Parameters.input_path, 'to_predict.csv'))\n",
    "df_pred_demand  = pd.read_excel(os.path.join(Parameters.results_path, 'df_plot.xlsx'))\n",
    "df_to_pred['Demand'] = df_pred_demand[['year_month','pred']][-3:]['pred'].values\n",
    "X, y            = data_to_class(df_to_pred)\n",
    "df_class, df_class_consolidate        = fn_classification(df_to_pred, X)"
   ]
  },
  {
   "cell_type": "markdown",
   "metadata": {},
   "source": [
    "##### API"
   ]
  },
  {
   "cell_type": "code",
   "execution_count": null,
   "metadata": {},
   "outputs": [],
   "source": [
    "import pandas as pd\n",
    "import os\n",
    "from src.parameters import Parameters\n",
    "from numpy import random\n",
    "from src.manual_api_class_compras import class_compras\n",
    "\n",
    "df_to_pred              = pd.read_csv(os.path.join(Parameters.input_path, 'to_predict.csv'))\n",
    "df_to_pred              = df_to_pred.sample()\n",
    "df_pred_demand          = pd.read_excel(os.path.join(Parameters.results_path, 'df_plot.xlsx'))\n",
    "df_to_pred['Demand']    = random.choice(df_pred_demand[['pred']][-3:]['pred'].values)\n",
    "class_compras(autoID =           df_to_pred['autoID'].iloc[0]\n",
    "            , SeniorCity =       df_to_pred['SeniorCity'].iloc[0]\n",
    "            , Partner =          df_to_pred['Partner'].iloc[0]\n",
    "            , Dependents =       df_to_pred['Dependents'].iloc[0]\n",
    "            , Service1 =         df_to_pred['Service1'].iloc[0]\n",
    "            , Service2 =         df_to_pred['Service2'].iloc[0]\n",
    "            , Security =         df_to_pred['Security'].iloc[0]\n",
    "            , OnlineBackup =     df_to_pred['OnlineBackup'].iloc[0]\n",
    "            , DeviceProtection = df_to_pred['DeviceProtection'].iloc[0]\n",
    "            , TechSupport =      df_to_pred['TechSupport'].iloc[0]\n",
    "            , Contract =         df_to_pred['Contract'].iloc[0]\n",
    "            , PaperlessBilling = df_to_pred['PaperlessBilling'].iloc[0]\n",
    "            , PaymentMethod =    df_to_pred['PaymentMethod'].iloc[0]\n",
    "            , Charges =          df_to_pred['Charges'].iloc[0]\n",
    "            , Demand =           df_to_pred['Demand'].iloc[0])"
   ]
  }
 ],
 "metadata": {
  "kernelspec": {
   "display_name": ".venv_summa_ml",
   "language": "python",
   "name": "python3"
  },
  "language_info": {
   "codemirror_mode": {
    "name": "ipython",
    "version": 3
   },
   "file_extension": ".py",
   "mimetype": "text/x-python",
   "name": "python",
   "nbconvert_exporter": "python",
   "pygments_lexer": "ipython3",
   "version": "3.10.8"
  }
 },
 "nbformat": 4,
 "nbformat_minor": 2
}
